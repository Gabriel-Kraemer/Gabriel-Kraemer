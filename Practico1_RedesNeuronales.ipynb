{
  "nbformat": 4,
  "nbformat_minor": 0,
  "metadata": {
    "colab": {
      "provenance": [],
      "authorship_tag": "ABX9TyMBVmpyY1PyvcADO0rcV1wL",
      "include_colab_link": true
    },
    "kernelspec": {
      "name": "python3",
      "display_name": "Python 3"
    },
    "language_info": {
      "name": "python"
    }
  },
  "cells": [
    {
      "cell_type": "markdown",
      "metadata": {
        "id": "view-in-github",
        "colab_type": "text"
      },
      "source": [
        "<a href=\"https://colab.research.google.com/github/Gabriel-Kraemer/Gabriel-Kraemer/blob/main/Practico1_RedesNeuronales.ipynb\" target=\"_parent\"><img src=\"https://colab.research.google.com/assets/colab-badge.svg\" alt=\"Open In Colab\"/></a>"
      ]
    },
    {
      "cell_type": "code",
      "metadata": {
        "id": "4zuTa-o4nf6h",
        "colab": {
          "base_uri": "https://localhost:8080/",
          "height": 760
        },
        "outputId": "1cce829d-14a5-44a5-a7fd-6b3877e4e4f0"
      },
      "source": [
        "from keras import models\n",
        "from keras import layers\n",
        "from keras.datasets import mnist\n",
        "#Cargamos los datos\n",
        "(train_images, train_labels), (test_images, test_labels) = mnist.load_data()\n",
        "#Examinamos la cantidad de datos que tenemos en cada subgrupo\n",
        "print(f'El tamaño de datos de entrnamiento es: {train_images.shape}')\n",
        "\n",
        "digit= train_images[1030]\n",
        "import matplotlib.pyplot as plt\n",
        "plt.imshow(digit, cmap=plt.cm.binary)\n",
        "plt.show()\n",
        "\n",
        "#Inicializamos los parametros de la red neuronal\n",
        "network = models.Sequential()\n",
        "network.add(layers.Dense(20, activation='sigmoid', input_shape=(28*28,)))\n",
        "network.add(layers.Dense(15, activation='sigmoid'))\n",
        "network.add(layers.Dense(10, activation='sigmoid'))\n",
        "network.compile(optimizer = 'rmsprop', loss='categorical_crossentropy', metrics=['accuracy'])\n",
        "\n",
        "train_images = train_images.reshape((60000,28*28))\n",
        "train_images = train_images.astype('float32')/255\n",
        "\n",
        "test_images = test_images.reshape((10000,28*28))\n",
        "test_images = test_images.astype('float32')/255\n",
        "\n",
        "train_images.shape\n",
        "\n",
        "\n",
        "#Ajustando los datos de salida\n",
        "from keras.utils import to_categorical\n",
        "\n",
        "train_labels = to_categorical(train_labels)\n",
        "test_labels = to_categorical(test_labels)\n",
        "\n",
        "train_labels.shape\n",
        "network.fit(train_images, train_labels, epochs=7, batch_size=128)\n",
        "test_loss,test_acc = network.evaluate(test_images, test_labels)\n",
        "print('test_acc:',test_acc)"
      ],
      "execution_count": 1,
      "outputs": [
        {
          "output_type": "stream",
          "name": "stdout",
          "text": [
            "Downloading data from https://storage.googleapis.com/tensorflow/tf-keras-datasets/mnist.npz\n",
            "11490434/11490434 [==============================] - 1s 0us/step\n",
            "El tamaño de datos de entrnamiento es: (60000, 28, 28)\n"
          ]
        },
        {
          "output_type": "display_data",
          "data": {
            "text/plain": [
              "<Figure size 640x480 with 1 Axes>"
            ],
            "image/png": "[encoded data removed]"
          },
          "metadata": {}
        },
        {
          "output_type": "stream",
          "name": "stdout",
          "text": [
            "Epoch 1/7\n",
            "469/469 [==============================] - 3s 5ms/step - loss: 1.6968 - accuracy: 0.5651\n",
            "Epoch 2/7\n",
            "469/469 [==============================] - 2s 5ms/step - loss: 0.8717 - accuracy: 0.8053\n",
            "Epoch 3/7\n",
            "469/469 [==============================] - 3s 6ms/step - loss: 0.5263 - accuracy: 0.8770\n",
            "Epoch 4/7\n",
            "469/469 [==============================] - 2s 4ms/step - loss: 0.3947 - accuracy: 0.8990\n",
            "Epoch 5/7\n",
            "469/469 [==============================] - 2s 4ms/step - loss: 0.3302 - accuracy: 0.9115\n",
            "Epoch 6/7\n",
            "469/469 [==============================] - 2s 5ms/step - loss: 0.2907 - accuracy: 0.9206\n",
            "Epoch 7/7\n",
            "469/469 [==============================] - 2s 4ms/step - loss: 0.2631 - accuracy: 0.9276\n",
            "313/313 [==============================] - 1s 3ms/step - loss: 0.2510 - accuracy: 0.9285\n",
            "test_acc: 0.9284999966621399\n"
          ]
        }
      ]
    }
  ]
}